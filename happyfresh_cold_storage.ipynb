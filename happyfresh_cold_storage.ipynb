{
 "cells": [
  {
   "cell_type": "code",
   "execution_count": 1,
   "metadata": {},
   "outputs": [],
   "source": [
    "from selenium import webdriver\n",
    "from selenium.webdriver.common.keys import Keys\n",
    "from selenium.webdriver.common.by import By\n",
    "from selenium.webdriver.support import expected_conditions as EC\n",
    "import time\n",
    "import pandas as pd\n",
    "import numpy as np"
   ]
  },
  {
   "cell_type": "markdown",
   "metadata": {},
   "source": [
    "RETRIEVE CATEGORIES"
   ]
  },
  {
   "cell_type": "code",
   "execution_count": 2,
   "metadata": {},
   "outputs": [
    {
     "name": "stdout",
     "output_type": "stream",
     "text": [
      "*** Process Completeed ***\n",
      "Time used:\t 17.22148561477661\n",
      "Dataframe shape:\t (62, 3)\n",
      "['Monthly Specials' 'Fresh Produce' 'Meat & Seafood' 'Dairy & Eggs'\n",
      " 'Beverages' 'Frozen' 'Deli' 'Organic Products' 'Non-halal'\n",
      " 'Alcohol & Tobacco' 'Other Wines Selection']\n"
     ]
    }
   ],
   "source": [
    "start_time = time.time()\n",
    "driver = webdriver.Chrome()\n",
    "driver.switch_to_window(driver.current_window_handle)\n",
    "driver.maximize_window()\n",
    "driver.get('https://www.happyfresh.my/stores/cold-storage-the-fresh-food-people/locations/535/')\n",
    "# GET LINKS FOR EACH-SUB CATEGORY\n",
    "outputs = []\n",
    "category = driver.find_elements_by_class_name('subcategories')\n",
    "for stage1 in category:\n",
    "    main_cat = stage1.find_elements_by_tag_name('span')[-1].get_attribute('innerText')\n",
    "    sub_list = stage1.find_elements_by_tag_name('a')\n",
    "    for stage2 in sub_list[1:]:\n",
    "        sub_cat = stage2.get_attribute('innerText')\n",
    "        sub_url = stage2.get_attribute('href')\n",
    "        outputs.append([main_cat, sub_cat, sub_url])\n",
    "time.sleep(1)\n",
    "driver.quit()\n",
    "print('*** Process Completeed ***')\n",
    "print('Time used:\\t',time.time()-start_time)\n",
    "\n",
    "data = pd.DataFrame(outputs, columns=['main_cat', 'sub_cat', 'sub_url'])\n",
    "wanted = ['Monthly Specials','Fresh Produce','Meat & Seafood','Dairy & Eggs','Beverages','Frozen','Deli','Organic Products',\\\n",
    "          'Non-halal','Alcohol & Tobacco','Other Wines Selection']\n",
    "data = data[data.main_cat.isin(wanted)]\n",
    "print('Dataframe shape:\\t',data.shape)\n",
    "data.to_csv('happyfresh_cold_storage.csv',index=False)\n",
    "print(data.main_cat.unique())"
   ]
  },
  {
   "cell_type": "code",
   "execution_count": 3,
   "metadata": {},
   "outputs": [],
   "source": [
    "data = pd.read_csv('happyfresh_cold_storage.csv')"
   ]
  },
  {
   "cell_type": "code",
   "execution_count": 4,
   "metadata": {},
   "outputs": [
    {
     "data": {
      "text/html": [
       "<div>\n",
       "<style scoped>\n",
       "    .dataframe tbody tr th:only-of-type {\n",
       "        vertical-align: middle;\n",
       "    }\n",
       "\n",
       "    .dataframe tbody tr th {\n",
       "        vertical-align: top;\n",
       "    }\n",
       "\n",
       "    .dataframe thead th {\n",
       "        text-align: right;\n",
       "    }\n",
       "</style>\n",
       "<table border=\"1\" class=\"dataframe\">\n",
       "  <thead>\n",
       "    <tr style=\"text-align: right;\">\n",
       "      <th></th>\n",
       "      <th>main_cat</th>\n",
       "      <th>sub_cat</th>\n",
       "      <th>sub_url</th>\n",
       "    </tr>\n",
       "  </thead>\n",
       "  <tbody>\n",
       "    <tr>\n",
       "      <th>0</th>\n",
       "      <td>Monthly Specials</td>\n",
       "      <td>Value To Buy</td>\n",
       "      <td>https://www.happyfresh.my/stores/cold-storage-...</td>\n",
       "    </tr>\n",
       "    <tr>\n",
       "      <th>1</th>\n",
       "      <td>Fresh Produce</td>\n",
       "      <td>Fresh Fruits</td>\n",
       "      <td>https://www.happyfresh.my/stores/cold-storage-...</td>\n",
       "    </tr>\n",
       "    <tr>\n",
       "      <th>2</th>\n",
       "      <td>Fresh Produce</td>\n",
       "      <td>Fresh Vegetables</td>\n",
       "      <td>https://www.happyfresh.my/stores/cold-storage-...</td>\n",
       "    </tr>\n",
       "    <tr>\n",
       "      <th>3</th>\n",
       "      <td>Fresh Produce</td>\n",
       "      <td>Fresh Herbs</td>\n",
       "      <td>https://www.happyfresh.my/stores/cold-storage-...</td>\n",
       "    </tr>\n",
       "    <tr>\n",
       "      <th>4</th>\n",
       "      <td>Fresh Produce</td>\n",
       "      <td>Packaged Fruit &amp; Vegetables</td>\n",
       "      <td>https://www.happyfresh.my/stores/cold-storage-...</td>\n",
       "    </tr>\n",
       "  </tbody>\n",
       "</table>\n",
       "</div>"
      ],
      "text/plain": [
       "           main_cat                      sub_cat  \\\n",
       "0  Monthly Specials                 Value To Buy   \n",
       "1     Fresh Produce                 Fresh Fruits   \n",
       "2     Fresh Produce             Fresh Vegetables   \n",
       "3     Fresh Produce                  Fresh Herbs   \n",
       "4     Fresh Produce  Packaged Fruit & Vegetables   \n",
       "\n",
       "                                             sub_url  \n",
       "0  https://www.happyfresh.my/stores/cold-storage-...  \n",
       "1  https://www.happyfresh.my/stores/cold-storage-...  \n",
       "2  https://www.happyfresh.my/stores/cold-storage-...  \n",
       "3  https://www.happyfresh.my/stores/cold-storage-...  \n",
       "4  https://www.happyfresh.my/stores/cold-storage-...  "
      ]
     },
     "execution_count": 4,
     "metadata": {},
     "output_type": "execute_result"
    }
   ],
   "source": [
    "data.head()"
   ]
  },
  {
   "cell_type": "markdown",
   "metadata": {},
   "source": [
    "RETRIEVE ITEMS"
   ]
  },
  {
   "cell_type": "code",
   "execution_count": 51,
   "metadata": {
    "scrolled": true
   },
   "outputs": [
    {
     "name": "stdout",
     "output_type": "stream",
     "text": [
      "*** Process Completeed ***\n",
      "Time used:\t 1873.824696779251\n"
     ]
    }
   ],
   "source": [
    "start_time = time.time()\n",
    "driver = webdriver.Chrome()\n",
    "driver.switch_to_window(driver.current_window_handle)\n",
    "driver.maximize_window()\n",
    "driver.get('https://www.happyfresh.my/stores/cold-storage-the-fresh-food-people/locations/535/')\n",
    "item_datas = []\n",
    "for i, row in data.iterrows():\n",
    "    driver.get(row.sub_url)\n",
    "    for n in range(18):\n",
    "        driver.execute_script(\"window.scrollTo(0, document.body.scrollHeight);\")\n",
    "        time.sleep(1)\n",
    "    item_list = driver.find_elements_by_class_name('product-summary')\n",
    "    for item in item_list:\n",
    "        promo = item.find_element_by_class_name('promotion-container').get_attribute('innerText').split('\\n')[0]\n",
    "        older_price = item.find_element_by_class_name('previous-price-container').get_attribute('innerText').split('\\n')[0][2:]\n",
    "        if older_price == '':\n",
    "            older_price = '0.00'\n",
    "        item_price = item.find_element_by_tag_name('strong').get_attribute('innerText')[2:]\n",
    "        item_name = item.find_element_by_class_name('product-name').get_attribute('innerText')\n",
    "        item_unit = item.find_element_by_class_name('product-unit').get_attribute('innerText')\n",
    "        item_unit_price = item.find_element_by_class_name('product-unit-price').get_attribute('innerText')\n",
    "        item_datas.append([row.main_cat, row.sub_cat, item_name, item_unit, item_unit_price, item_price, older_price, promo])\n",
    "time.sleep(1)\n",
    "driver.quit()\n",
    "print('*** Process Completeed ***')\n",
    "print('Time used:\\t',time.time()-start_time)"
   ]
  },
  {
   "cell_type": "code",
   "execution_count": 15,
   "metadata": {},
   "outputs": [
    {
     "name": "stdout",
     "output_type": "stream",
     "text": [
      "Dataframe shape:\t (2130, 8)\n"
     ]
    },
    {
     "data": {
      "text/html": [
       "<div>\n",
       "<style scoped>\n",
       "    .dataframe tbody tr th:only-of-type {\n",
       "        vertical-align: middle;\n",
       "    }\n",
       "\n",
       "    .dataframe tbody tr th {\n",
       "        vertical-align: top;\n",
       "    }\n",
       "\n",
       "    .dataframe thead th {\n",
       "        text-align: right;\n",
       "    }\n",
       "</style>\n",
       "<table border=\"1\" class=\"dataframe\">\n",
       "  <thead>\n",
       "    <tr style=\"text-align: right;\">\n",
       "      <th></th>\n",
       "      <th>main_cat</th>\n",
       "      <th>sub_cat</th>\n",
       "      <th>item_name</th>\n",
       "      <th>item_unit</th>\n",
       "      <th>item_unit_price</th>\n",
       "      <th>item_price</th>\n",
       "      <th>item_old_price</th>\n",
       "      <th>promotion</th>\n",
       "    </tr>\n",
       "  </thead>\n",
       "  <tbody>\n",
       "    <tr>\n",
       "      <th>0</th>\n",
       "      <td>Monthly Specials</td>\n",
       "      <td>Value To Buy</td>\n",
       "      <td>Arla Natural Cheese Sliced Bundle</td>\n",
       "      <td>1 bundle</td>\n",
       "      <td>RM22.40</td>\n",
       "      <td>22.40</td>\n",
       "      <td>28.00</td>\n",
       "      <td>20% Off</td>\n",
       "    </tr>\n",
       "    <tr>\n",
       "      <th>1</th>\n",
       "      <td>Monthly Specials</td>\n",
       "      <td>Value To Buy</td>\n",
       "      <td>Arla Triangles 8 Portion Cheese + Arla Natural...</td>\n",
       "      <td>1 bundle</td>\n",
       "      <td>RM13.16</td>\n",
       "      <td>13.16</td>\n",
       "      <td>16.45</td>\n",
       "      <td>20% Off</td>\n",
       "    </tr>\n",
       "    <tr>\n",
       "      <th>2</th>\n",
       "      <td>Monthly Specials</td>\n",
       "      <td>Value To Buy</td>\n",
       "      <td>Arla Triangles 8 Portion Cheese Bundle</td>\n",
       "      <td>1 bundle</td>\n",
       "      <td>RM11.92</td>\n",
       "      <td>11.92</td>\n",
       "      <td>14.90</td>\n",
       "      <td>20% Off</td>\n",
       "    </tr>\n",
       "    <tr>\n",
       "      <th>3</th>\n",
       "      <td>Monthly Specials</td>\n",
       "      <td>Value To Buy</td>\n",
       "      <td>Arla Triangles 8 Portion Cheese + Gardenia...</td>\n",
       "      <td>1 bundle</td>\n",
       "      <td>RM8.50</td>\n",
       "      <td>8.50</td>\n",
       "      <td>9.99</td>\n",
       "      <td>15% Off</td>\n",
       "    </tr>\n",
       "    <tr>\n",
       "      <th>4</th>\n",
       "      <td>Monthly Specials</td>\n",
       "      <td>Value To Buy</td>\n",
       "      <td>Arla Natural Cheese Block Bundle</td>\n",
       "      <td>1 bundle</td>\n",
       "      <td>RM23.92</td>\n",
       "      <td>23.92</td>\n",
       "      <td>29.90</td>\n",
       "      <td>20% Off</td>\n",
       "    </tr>\n",
       "  </tbody>\n",
       "</table>\n",
       "</div>"
      ],
      "text/plain": [
       "           main_cat       sub_cat  \\\n",
       "0  Monthly Specials  Value To Buy   \n",
       "1  Monthly Specials  Value To Buy   \n",
       "2  Monthly Specials  Value To Buy   \n",
       "3  Monthly Specials  Value To Buy   \n",
       "4  Monthly Specials  Value To Buy   \n",
       "\n",
       "                                           item_name item_unit  \\\n",
       "0                  Arla Natural Cheese Sliced Bundle  1 bundle   \n",
       "1  Arla Triangles 8 Portion Cheese + Arla Natural...  1 bundle   \n",
       "2             Arla Triangles 8 Portion Cheese Bundle  1 bundle   \n",
       "3      Arla Triangles 8 Portion Cheese + Gardenia...  1 bundle   \n",
       "4                   Arla Natural Cheese Block Bundle  1 bundle   \n",
       "\n",
       "  item_unit_price item_price item_old_price promotion  \n",
       "0         RM22.40      22.40          28.00   20% Off  \n",
       "1         RM13.16      13.16          16.45   20% Off  \n",
       "2         RM11.92      11.92          14.90   20% Off  \n",
       "3          RM8.50       8.50           9.99   15% Off  \n",
       "4         RM23.92      23.92          29.90   20% Off  "
      ]
     },
     "execution_count": 15,
     "metadata": {},
     "output_type": "execute_result"
    }
   ],
   "source": [
    "item_df = pd.DataFrame(item_datas, columns=['main_cat','sub_cat','item_name','item_unit','item_unit_price','item_price',\\\n",
    "                                            'item_old_price','promotion'])\n",
    "print('Dataframe shape:\\t',item_df.shape)\n",
    "item_df.to_csv('cold_storage_database.csv',index=False)\n",
    "item_df.head()"
   ]
  },
  {
   "cell_type": "code",
   "execution_count": null,
   "metadata": {},
   "outputs": [],
   "source": []
  },
  {
   "cell_type": "code",
   "execution_count": null,
   "metadata": {},
   "outputs": [],
   "source": []
  }
 ],
 "metadata": {
  "kernelspec": {
   "display_name": "Python 3",
   "language": "python",
   "name": "python3"
  },
  "language_info": {
   "codemirror_mode": {
    "name": "ipython",
    "version": 3
   },
   "file_extension": ".py",
   "mimetype": "text/x-python",
   "name": "python",
   "nbconvert_exporter": "python",
   "pygments_lexer": "ipython3",
   "version": "3.6.6"
  }
 },
 "nbformat": 4,
 "nbformat_minor": 2
}
