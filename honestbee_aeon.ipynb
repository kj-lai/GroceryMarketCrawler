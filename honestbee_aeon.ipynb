{
 "cells": [
  {
   "cell_type": "code",
   "execution_count": null,
   "metadata": {},
   "outputs": [],
   "source": [
    "import scrapy\n",
    "from selenium import webdriver\n",
    "from selenium.webdriver.common.keys import Keys\n",
    "from selenium.webdriver.common.by import By\n",
    "import time\n",
    "import pandas as pd\n",
    "import numpy as np"
   ]
  },
  {
   "cell_type": "code",
   "execution_count": 2,
   "metadata": {},
   "outputs": [
    {
     "name": "stdout",
     "output_type": "stream",
     "text": [
      "*** Process Completeed ***\n",
      "Time used:\t 17.37610125541687\n",
      "Dataframe shape:\t (111, 4)\n",
      "['Mid Autumn Festival' 'Fresh Fruits' 'Fresh Vegetables' 'Fresh Meat'\n",
      " 'Fresh Seafood' 'Dairy, Eggs & Chilled Food' 'Dry Grocery' 'Drinks'\n",
      " 'Snacks & Sweets' 'Frozen Food' 'Bakery' 'Babies' 'Household & Cleaning'\n",
      " 'Home & Outdoors' 'Home' 'Alcohol' 'Electronics' 'Health & Beauty' 'Pets'\n",
      " 'Ready to Eat & Deli']\n"
     ]
    }
   ],
   "source": [
    "start_time = time.time()\n",
    "driver = webdriver.Chrome()\n",
    "driver.switch_to_window(driver.current_window_handle)\n",
    "driver.maximize_window()\n",
    "driver.get('https://www.honestbee.my/en/groceries/stores/aeon')\n",
    "\n",
    "# GET LINKS FOR EACH-SUB CATEGORY\n",
    "category = driver.find_elements_by_class_name('_3d-zCcjQD-_pBtgcchlLJ6')\n",
    "outputs = []\n",
    "for stage1 in category:\n",
    "    main = stage1.find_elements_by_tag_name('a')[0]\n",
    "    main_name = main.get_attribute('innerText')\n",
    "    main_url = main.get_attribute('href')\n",
    "    a_urls = stage1.find_elements_by_tag_name('a')[1:]\n",
    "    for stage2 in a_urls:\n",
    "        sub_url = stage2.get_attribute('href')\n",
    "        sub = stage2.find_elements_by_tag_name('span')       \n",
    "        sub_name = sub[0].get_attribute('innerText')\n",
    "        sub_count = sub[1].get_attribute('innerText')\n",
    "        outputs.append([main_name, sub_name, sub_count, sub_url])\n",
    "time.sleep(1)\n",
    "driver.quit()\n",
    "print('*** Process Completeed ***')\n",
    "print('Time used:\\t',time.time()-start_time)\n",
    "\n",
    "data = pd.DataFrame(outputs, columns=['main_cat', 'sub_cat', 'counts', 'sub_url'])\n",
    "data.counts = data.counts.astype('int')\n",
    "print('Dataframe shape:\\t',data.shape)\n",
    "data.to_csv('honestbee_aeon_category.csv',index=False)\n",
    "print(data.main_cat.unique())"
   ]
  },
  {
   "cell_type": "code",
   "execution_count": 3,
   "metadata": {},
   "outputs": [
    {
     "name": "stdout",
     "output_type": "stream",
     "text": [
      "(54, 4)\n",
      "['Mid Autumn Festival' 'Fresh Vegetables' 'Fresh Meat' 'Fresh Seafood'\n",
      " 'Dairy, Eggs & Chilled Food' 'Dry Grocery' 'Drinks' 'Frozen Food'\n",
      " 'Ready to Eat & Deli']\n"
     ]
    }
   ],
   "source": [
    "wanted = ['Mid Autumn Festival','Fresh Vegetables','Fresh Meat','Fresh Seafood',\\\n",
    "          'Dairy, Eggs & Chilled Food','Dry Grocery','Drinks','Frozen Food','Ready to Eat & Deli']\n",
    "data2 = data[data.main_cat.isin(wanted)].reset_index(drop=True)\n",
    "print(data2.shape)\n",
    "print(data2.main_cat.unique())"
   ]
  },
  {
   "cell_type": "code",
   "execution_count": 4,
   "metadata": {
    "scrolled": true
   },
   "outputs": [
    {
     "name": "stdout",
     "output_type": "stream",
     "text": [
      "*** Process Completeed ***\n",
      "Time used:\t 1562.1742577552795\n"
     ]
    }
   ],
   "source": [
    "start_time = time.time()\n",
    "driver = webdriver.Chrome()\n",
    "driver.switch_to_window(driver.current_window_handle)\n",
    "driver.maximize_window()\n",
    "driver.get('https://www.honestbee.my/en/groceries/stores/aeon')\n",
    "\n",
    "### EXTRACT DATA FROM EACH SUB PAGES\n",
    "item_datas = []\n",
    "for i, row in data2.iterrows():\n",
    "    driver.get(row.sub_url)\n",
    "    try:\n",
    "        if int(row.counts) > 48:\n",
    "            driver.execute_script(\"window.scrollTo(0, document.body.scrollHeight);\")\n",
    "            time.sleep(2)\n",
    "        if int(row.counts) > 96:\n",
    "            driver.execute_script(\"window.scrollTo(0, document.body.scrollHeight);\")\n",
    "            time.sleep(2)\n",
    "        while True:\n",
    "            driver.execute_script(\"window.scrollTo(0, document.body.scrollHeight);\")\n",
    "            time.sleep(2)\n",
    "            driver.find_element_by_tag_name('button').click()\n",
    "            time.sleep(2) \n",
    "    except:\n",
    "        items = driver.find_elements_by_class_name('XaRs403S_a6U7-8Wfu_c3')\n",
    "        for stage3 in items:\n",
    "            price = stage3.find_element_by_class_name('_23g1UkP8VGFqvGuLjUsc-H').get_attribute('innerText')\n",
    "            name = stage3.find_element_by_class_name('_2UCShViKs8ydkfj-XuvUhM').get_attribute('innerText')\n",
    "            try:\n",
    "                volume = stage3.find_element_by_class_name('_3MvGCVMGqgv4KoGQ2wGzfk').get_attribute('innerText')\n",
    "            except:\n",
    "                volume = ''\n",
    "            try:\n",
    "                old_price = stage3.find_element_by_css_selector('del._1cBPpMK9Rz7AJ9O6CEdCsE').get_attribute('innerText')\n",
    "            except:\n",
    "                old_price = ''\n",
    "            extra = stage3.find_elements_by_css_selector('div._3zMyJ5m6V3lSUseYIe-Rqr')\n",
    "            if len(extra) == 1:\n",
    "                try:\n",
    "                    out_of_stock = ''\n",
    "                    saved_price = extra[0].find_element_by_tag_name('strong').get_attribute('innerText')\n",
    "                except:\n",
    "                    out_of_stock = extra[0].get_attribute('innerText')\n",
    "                    saved_price = ''\n",
    "            elif len(extra) >= 1:\n",
    "                out_of_stock = extra[0].get_attribute('innerText')\n",
    "                saved_price = extra[1].find_element_by_tag_name('strong').get_attribute('innerText') \n",
    "            else:\n",
    "                out_of_stock = ''\n",
    "                saved_price = ''\n",
    "            item_datas.append([row.main_cat, row.sub_cat, name, price[2:], volume, old_price[2:], out_of_stock, saved_price[2:]])\n",
    "    time.sleep(1)\n",
    "driver.quit()\n",
    "print('*** Process Completeed ***')\n",
    "print('Time used:\\t',time.time()-start_time)"
   ]
  },
  {
   "cell_type": "code",
   "execution_count": 5,
   "metadata": {},
   "outputs": [
    {
     "name": "stdout",
     "output_type": "stream",
     "text": [
      "Dataframe shape:\t (6470, 8)\n"
     ]
    },
    {
     "data": {
      "text/html": [
       "<div>\n",
       "<style scoped>\n",
       "    .dataframe tbody tr th:only-of-type {\n",
       "        vertical-align: middle;\n",
       "    }\n",
       "\n",
       "    .dataframe tbody tr th {\n",
       "        vertical-align: top;\n",
       "    }\n",
       "\n",
       "    .dataframe thead th {\n",
       "        text-align: right;\n",
       "    }\n",
       "</style>\n",
       "<table border=\"1\" class=\"dataframe\">\n",
       "  <thead>\n",
       "    <tr style=\"text-align: right;\">\n",
       "      <th></th>\n",
       "      <th>main_cat</th>\n",
       "      <th>sub_cat</th>\n",
       "      <th>item_name</th>\n",
       "      <th>item_price</th>\n",
       "      <th>item_vol</th>\n",
       "      <th>item_old_price</th>\n",
       "      <th>description</th>\n",
       "      <th>saved_price</th>\n",
       "    </tr>\n",
       "  </thead>\n",
       "  <tbody>\n",
       "    <tr>\n",
       "      <th>0</th>\n",
       "      <td>Mid Autumn Festival</td>\n",
       "      <td>Gift Sets</td>\n",
       "      <td>Mhh Da Si Xi Gift Set</td>\n",
       "      <td>60.00</td>\n",
       "      <td>each</td>\n",
       "      <td>80.00</td>\n",
       "      <td></td>\n",
       "      <td>20.00</td>\n",
       "    </tr>\n",
       "    <tr>\n",
       "      <th>1</th>\n",
       "      <td>Mid Autumn Festival</td>\n",
       "      <td>Gift Sets</td>\n",
       "      <td>Mx Low Sugar White Lotus Seed M/Cake W Pine Nut</td>\n",
       "      <td>179.00</td>\n",
       "      <td>each</td>\n",
       "      <td></td>\n",
       "      <td></td>\n",
       "      <td></td>\n",
       "    </tr>\n",
       "    <tr>\n",
       "      <th>2</th>\n",
       "      <td>Mid Autumn Festival</td>\n",
       "      <td>Gift Sets</td>\n",
       "      <td>Mei Xin Creamy Custard Mooncake</td>\n",
       "      <td>150.00</td>\n",
       "      <td>8s</td>\n",
       "      <td></td>\n",
       "      <td></td>\n",
       "      <td></td>\n",
       "    </tr>\n",
       "    <tr>\n",
       "      <th>3</th>\n",
       "      <td>Mid Autumn Festival</td>\n",
       "      <td>Gift Sets</td>\n",
       "      <td>Jdx Teh Raja (Gold) 10Pkt</td>\n",
       "      <td>33.80</td>\n",
       "      <td>/ pack</td>\n",
       "      <td></td>\n",
       "      <td></td>\n",
       "      <td></td>\n",
       "    </tr>\n",
       "    <tr>\n",
       "      <th>4</th>\n",
       "      <td>Mid Autumn Festival</td>\n",
       "      <td>Gift Sets</td>\n",
       "      <td>Taipan Mini Snowy W Sesame Custard&amp;Sesame Bean</td>\n",
       "      <td>35.00</td>\n",
       "      <td>2s</td>\n",
       "      <td></td>\n",
       "      <td></td>\n",
       "      <td></td>\n",
       "    </tr>\n",
       "  </tbody>\n",
       "</table>\n",
       "</div>"
      ],
      "text/plain": [
       "              main_cat    sub_cat  \\\n",
       "0  Mid Autumn Festival  Gift Sets   \n",
       "1  Mid Autumn Festival  Gift Sets   \n",
       "2  Mid Autumn Festival  Gift Sets   \n",
       "3  Mid Autumn Festival  Gift Sets   \n",
       "4  Mid Autumn Festival  Gift Sets   \n",
       "\n",
       "                                         item_name item_price item_vol  \\\n",
       "0                            Mhh Da Si Xi Gift Set      60.00     each   \n",
       "1  Mx Low Sugar White Lotus Seed M/Cake W Pine Nut     179.00     each   \n",
       "2                  Mei Xin Creamy Custard Mooncake     150.00       8s   \n",
       "3                        Jdx Teh Raja (Gold) 10Pkt      33.80   / pack   \n",
       "4   Taipan Mini Snowy W Sesame Custard&Sesame Bean      35.00       2s   \n",
       "\n",
       "  item_old_price description saved_price  \n",
       "0          80.00                   20.00  \n",
       "1                                         \n",
       "2                                         \n",
       "3                                         \n",
       "4                                         "
      ]
     },
     "execution_count": 5,
     "metadata": {},
     "output_type": "execute_result"
    }
   ],
   "source": [
    "item_df = pd.DataFrame(item_datas, columns=['main_cat','sub_cat','item_name','item_price','item_vol','item_old_price','description','saved_price'])\n",
    "print('Dataframe shape:\\t',item_df.shape)\n",
    "item_df.to_csv('20180918_honestbee_aeon_database.csv',index=False)\n",
    "item_df.head()"
   ]
  },
  {
   "cell_type": "code",
   "execution_count": null,
   "metadata": {},
   "outputs": [],
   "source": []
  }
 ],
 "metadata": {
  "kernelspec": {
   "display_name": "Python 3",
   "language": "python",
   "name": "python3"
  },
  "language_info": {
   "codemirror_mode": {
    "name": "ipython",
    "version": 3
   },
   "file_extension": ".py",
   "mimetype": "text/x-python",
   "name": "python",
   "nbconvert_exporter": "python",
   "pygments_lexer": "ipython3",
   "version": "3.6.6"
  }
 },
 "nbformat": 4,
 "nbformat_minor": 2
}
