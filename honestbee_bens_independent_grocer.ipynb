{
 "cells": [
  {
   "cell_type": "code",
   "execution_count": 1,
   "metadata": {},
   "outputs": [],
   "source": [
    "from selenium import webdriver\n",
    "from selenium.webdriver.common.keys import Keys\n",
    "from selenium.webdriver.common.by import By\n",
    "import time\n",
    "import pandas as pd\n",
    "import numpy as np"
   ]
  },
  {
   "cell_type": "code",
   "execution_count": 2,
   "metadata": {},
   "outputs": [
    {
     "name": "stdout",
     "output_type": "stream",
     "text": [
      "*** Process Completeed ***\n",
      "Time used:\t 24.586074590682983\n",
      "Dataframe shape:\t (125, 4)\n",
      "['Special Bundles' 'Fresh Vegetables' 'Fresh Fruits' 'Fresh Meat'\n",
      " 'Fresh Seafood' 'Dairy, Eggs & Chilled Food' 'Dry Grocery' 'Drinks'\n",
      " 'Snacks & Sweets' 'Bakery' 'Frozen Food' 'Babies' 'Alcohol'\n",
      " 'Health & Beauty' 'Household & Cleaning' 'Cereals & Cereal Bars'\n",
      " 'Gourmet' 'Home' 'Pets' 'Pork (Non-Halal)']\n"
     ]
    }
   ],
   "source": [
    "start_time = time.time()\n",
    "driver = webdriver.Chrome()\n",
    "driver.switch_to_window(driver.current_window_handle)\n",
    "driver.maximize_window()\n",
    "driver.get('https://www.honestbee.my/en/groceries/stores/bens-independent-grocer')\n",
    "\n",
    "# GET LINKS FOR EACH-SUB CATEGORY\n",
    "category = driver.find_elements_by_class_name('_3d-zCcjQD-_pBtgcchlLJ6')\n",
    "outputs = []\n",
    "for stage1 in category:\n",
    "    main = stage1.find_elements_by_tag_name('a')[0]\n",
    "    main_name = main.get_attribute('innerText')\n",
    "    main_url = main.get_attribute('href')\n",
    "    a_urls = stage1.find_elements_by_tag_name('a')[1:]\n",
    "    for stage2 in a_urls:\n",
    "        sub_url = stage2.get_attribute('href')\n",
    "        sub = stage2.find_elements_by_tag_name('span')       \n",
    "        sub_name = sub[0].get_attribute('innerText')\n",
    "        sub_count = sub[1].get_attribute('innerText')\n",
    "        outputs.append([main_name, sub_name, sub_count, sub_url])\n",
    "time.sleep(1)\n",
    "driver.quit()\n",
    "print('*** Process Completeed ***')\n",
    "print('Time used:\\t',time.time()-start_time)\n",
    "\n",
    "data = pd.DataFrame(outputs, columns=['main_cat', 'sub_cat', 'counts', 'sub_url'])\n",
    "data.counts = data.counts.astype('int')\n",
    "print('Dataframe shape:\\t',data.shape)\n",
    "data.to_csv('honestbee_bens_independent_grocer_category.csv',index=False)\n",
    "print(data.main_cat.unique())"
   ]
  },
  {
   "cell_type": "code",
   "execution_count": 3,
   "metadata": {},
   "outputs": [
    {
     "name": "stdout",
     "output_type": "stream",
     "text": [
      "(66, 4)\n",
      "['Special Bundles' 'Fresh Vegetables' 'Fresh Fruits' 'Fresh Meat'\n",
      " 'Fresh Seafood' 'Dairy, Eggs & Chilled Food' 'Dry Grocery' 'Drinks'\n",
      " 'Frozen Food']\n"
     ]
    }
   ],
   "source": [
    "wanted = ['Special Bundles','Fresh Vegetables','Fresh Fruits','Fresh Meat','Fresh Seafood',\\\n",
    "          'Dairy, Eggs & Chilled Food','Dry Grocery','Drinks','Frozen Food']\n",
    "data2 = data[data.main_cat.isin(wanted)].reset_index(drop=True)\n",
    "print(data2.shape)\n",
    "print(data2.main_cat.unique())"
   ]
  },
  {
   "cell_type": "code",
   "execution_count": null,
   "metadata": {
    "scrolled": true
   },
   "outputs": [],
   "source": [
    "start_time = time.time()\n",
    "driver = webdriver.Chrome()\n",
    "driver.switch_to_window(driver.current_window_handle)\n",
    "driver.maximize_window()\n",
    "driver.get('https://www.honestbee.my/en/groceries/stores/bens-independent-grocer')\n",
    "\n",
    "### EXTRACT DATA FROM EACH SUB PAGES\n",
    "item_datas = []\n",
    "for i, row in data2.iterrows():\n",
    "    driver.get(row.sub_url)\n",
    "    try:\n",
    "        if int(row.counts) > 48:\n",
    "            driver.execute_script(\"window.scrollTo(0, document.body.scrollHeight);\")\n",
    "            time.sleep(2)\n",
    "        if int(row.counts) > 96:\n",
    "            driver.execute_script(\"window.scrollTo(0, document.body.scrollHeight);\")\n",
    "            time.sleep(2)\n",
    "        while True:\n",
    "            driver.execute_script(\"window.scrollTo(0, document.body.scrollHeight);\")\n",
    "            time.sleep(2)\n",
    "            driver.find_element_by_tag_name('button').click()\n",
    "            time.sleep(2) \n",
    "    except:\n",
    "        items = driver.find_elements_by_class_name('XaRs403S_a6U7-8Wfu_c3')\n",
    "        for stage3 in items:\n",
    "            price = stage3.find_element_by_class_name('_23g1UkP8VGFqvGuLjUsc-H').get_attribute('innerText')\n",
    "            name = stage3.find_element_by_class_name('_2UCShViKs8ydkfj-XuvUhM').get_attribute('innerText')\n",
    "            try:\n",
    "                volume = stage3.find_element_by_class_name('_3MvGCVMGqgv4KoGQ2wGzfk').get_attribute('innerText')\n",
    "            except:\n",
    "                volume = ''\n",
    "            try:\n",
    "                old_price = stage3.find_element_by_css_selector('del._1cBPpMK9Rz7AJ9O6CEdCsE').get_attribute('innerText')\n",
    "            except:\n",
    "                old_price = ''\n",
    "            extra = stage3.find_elements_by_css_selector('div._3zMyJ5m6V3lSUseYIe-Rqr')\n",
    "            if len(extra) == 1:\n",
    "                try:\n",
    "                    out_of_stock = ''\n",
    "                    saved_price = extra[0].find_element_by_tag_name('strong').get_attribute('innerText')\n",
    "                except:\n",
    "                    out_of_stock = extra[0].get_attribute('innerText')\n",
    "                    saved_price = ''\n",
    "            elif len(extra) >= 1:\n",
    "                out_of_stock = extra[0].get_attribute('innerText')\n",
    "                saved_price = extra[1].find_element_by_tag_name('strong').get_attribute('innerText') \n",
    "            else:\n",
    "                out_of_stock = ''\n",
    "                saved_price = ''\n",
    "            item_datas.append([row.main_cat, row.sub_cat, name, price[2:], volume, old_price[2:], out_of_stock, saved_price[2:]])\n",
    "    time.sleep(1)\n",
    "driver.quit()\n",
    "print('*** Process Completeed ***')\n",
    "print('Time used:\\t',time.time()-start_time)"
   ]
  },
  {
   "cell_type": "code",
   "execution_count": null,
   "metadata": {},
   "outputs": [],
   "source": [
    "item_df = pd.DataFrame(item_datas, columns=['main_cat','sub_cat','item_name','item_price','item_vol','item_old_price','description','saved_price'])\n",
    "print('Dataframe shape:\\t',item_df.shape)\n",
    "item_df.to_csv('honestbee_bens_independent_grocer_database.csv',index=False)\n",
    "item_df.head()"
   ]
  },
  {
   "cell_type": "code",
   "execution_count": null,
   "metadata": {},
   "outputs": [],
   "source": []
  }
 ],
 "metadata": {
  "kernelspec": {
   "display_name": "Python 3",
   "language": "python",
   "name": "python3"
  },
  "language_info": {
   "codemirror_mode": {
    "name": "ipython",
    "version": 3
   },
   "file_extension": ".py",
   "mimetype": "text/x-python",
   "name": "python",
   "nbconvert_exporter": "python",
   "pygments_lexer": "ipython3",
   "version": "3.6.6"
  }
 },
 "nbformat": 4,
 "nbformat_minor": 2
}
