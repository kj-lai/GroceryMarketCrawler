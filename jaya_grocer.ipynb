{
 "cells": [
  {
   "cell_type": "markdown",
   "metadata": {},
   "source": [
    "source: https://eshop.tesco.com.my/groceries/en-GB/"
   ]
  },
  {
   "cell_type": "code",
   "execution_count": 1,
   "metadata": {},
   "outputs": [],
   "source": [
    "from selenium import webdriver\n",
    "from selenium.webdriver.common.keys import Keys\n",
    "from selenium.webdriver.common.by import By\n",
    "from selenium.webdriver.support import expected_conditions as EC\n",
    "import time\n",
    "import pandas as pd\n",
    "import numpy as np"
   ]
  },
  {
   "cell_type": "markdown",
   "metadata": {},
   "source": [
    "RETRIEVE CATEGORIES"
   ]
  },
  {
   "cell_type": "code",
   "execution_count": 2,
   "metadata": {},
   "outputs": [
    {
     "name": "stdout",
     "output_type": "stream",
     "text": [
      "*** Process Completeed ***\n",
      "Time used:\t 29.9142062664032\n"
     ]
    }
   ],
   "source": [
    "start_time = time.time()\n",
    "driver = webdriver.Chrome()\n",
    "driver.switch_to_window(driver.current_window_handle)\n",
    "driver.maximize_window()\n",
    "driver.get('https://www.jayagrocer.com/')\n",
    "# GET LINKS FOR EACH-SUB CATEGORY\n",
    "category = driver.find_elements_by_css_selector('.list-group-item')\n",
    "main = ['On-Sale Products','Special Events','Fresh Market','Dairy & Chilled','Food Essentials','Frozen Foods',\\\n",
    "        'Organics','Bakery','Snacks','Beverages','Alcohol','Beauty & Health','Household Products','Office Supplies',\\\n",
    "        'Baby Care','Pet Shop','Non-Halal']\n",
    "wanted = ['Special Events','Fresh Market','Dairy & Chilled','Frozen Foods','Organics','Beverages','Alcohol','Non-Halal']\n",
    "main_cats = []\n",
    "urls = []\n",
    "for stage1 in category:\n",
    "    main_cats.append(stage1.find_element_by_tag_name('a').get_attribute('innerText'))\n",
    "    urls.append(stage1.find_element_by_tag_name('a').get_attribute('href'))\n",
    "time.sleep(1)\n",
    "driver.quit()\n",
    "print('*** Process Completeed ***')\n",
    "print('Time used:\\t',time.time()-start_time)"
   ]
  },
  {
   "cell_type": "code",
   "execution_count": 3,
   "metadata": {},
   "outputs": [
    {
     "name": "stdout",
     "output_type": "stream",
     "text": [
      "Dataframe shape:\t (44, 3)\n",
      "['Special Events' 'Fresh Market' 'Dairy & Chilled' 'Frozen Foods'\n",
      " 'Organics' 'Beverages' 'Alcohol' 'Non-Halal']\n"
     ]
    }
   ],
   "source": [
    "data = pd.DataFrame({'sub_cat':main_cats, 'url':urls})\n",
    "data = data.iloc[:104]\n",
    "data['main_cat'] = data.sub_cat.apply(lambda x: x if x in main else 'nan')\n",
    "data.mask(data=='nan', None,inplace=True)\n",
    "data.main_cat.ffill(inplace=True)\n",
    "data = data[data.main_cat.isin(wanted)]\n",
    "data = data[data.main_cat != data.sub_cat]\n",
    "data = data[['main_cat','sub_cat','url']]\n",
    "print('Dataframe shape:\\t',data.shape)\n",
    "data.to_csv('jaya_grocer_category.csv',index=False)\n",
    "print(data.main_cat.unique())"
   ]
  },
  {
   "cell_type": "code",
   "execution_count": 2,
   "metadata": {},
   "outputs": [],
   "source": [
    "data = pd.read_csv('jaya_grocer_category.csv')"
   ]
  },
  {
   "cell_type": "code",
   "execution_count": 3,
   "metadata": {},
   "outputs": [
    {
     "data": {
      "text/html": [
       "<div>\n",
       "<style scoped>\n",
       "    .dataframe tbody tr th:only-of-type {\n",
       "        vertical-align: middle;\n",
       "    }\n",
       "\n",
       "    .dataframe tbody tr th {\n",
       "        vertical-align: top;\n",
       "    }\n",
       "\n",
       "    .dataframe thead th {\n",
       "        text-align: right;\n",
       "    }\n",
       "</style>\n",
       "<table border=\"1\" class=\"dataframe\">\n",
       "  <thead>\n",
       "    <tr style=\"text-align: right;\">\n",
       "      <th></th>\n",
       "      <th>main_cat</th>\n",
       "      <th>sub_cat</th>\n",
       "      <th>url</th>\n",
       "    </tr>\n",
       "  </thead>\n",
       "  <tbody>\n",
       "    <tr>\n",
       "      <th>0</th>\n",
       "      <td>Special Events</td>\n",
       "      <td>Mooncake Festival</td>\n",
       "      <td>https://www.jayagrocer.com/category?category_a...</td>\n",
       "    </tr>\n",
       "    <tr>\n",
       "      <th>1</th>\n",
       "      <td>Fresh Market</td>\n",
       "      <td>Vegetables</td>\n",
       "      <td>https://www.jayagrocer.com/category?category_a...</td>\n",
       "    </tr>\n",
       "    <tr>\n",
       "      <th>2</th>\n",
       "      <td>Fresh Market</td>\n",
       "      <td>Salad &amp; Herbs</td>\n",
       "      <td>https://www.jayagrocer.com/category?category_a...</td>\n",
       "    </tr>\n",
       "    <tr>\n",
       "      <th>3</th>\n",
       "      <td>Fresh Market</td>\n",
       "      <td>Fruits</td>\n",
       "      <td>https://www.jayagrocer.com/category?category_a...</td>\n",
       "    </tr>\n",
       "    <tr>\n",
       "      <th>4</th>\n",
       "      <td>Fresh Market</td>\n",
       "      <td>Fresh Meat</td>\n",
       "      <td>https://www.jayagrocer.com/category?category_a...</td>\n",
       "    </tr>\n",
       "  </tbody>\n",
       "</table>\n",
       "</div>"
      ],
      "text/plain": [
       "         main_cat            sub_cat  \\\n",
       "0  Special Events  Mooncake Festival   \n",
       "1    Fresh Market         Vegetables   \n",
       "2    Fresh Market      Salad & Herbs   \n",
       "3    Fresh Market             Fruits   \n",
       "4    Fresh Market         Fresh Meat   \n",
       "\n",
       "                                                 url  \n",
       "0  https://www.jayagrocer.com/category?category_a...  \n",
       "1  https://www.jayagrocer.com/category?category_a...  \n",
       "2  https://www.jayagrocer.com/category?category_a...  \n",
       "3  https://www.jayagrocer.com/category?category_a...  \n",
       "4  https://www.jayagrocer.com/category?category_a...  "
      ]
     },
     "execution_count": 3,
     "metadata": {},
     "output_type": "execute_result"
    }
   ],
   "source": [
    "data.head()"
   ]
  },
  {
   "cell_type": "markdown",
   "metadata": {},
   "source": [
    "RETRIEVE ITEMS"
   ]
  },
  {
   "cell_type": "code",
   "execution_count": 8,
   "metadata": {
    "scrolled": true
   },
   "outputs": [
    {
     "name": "stdout",
     "output_type": "stream",
     "text": [
      "*** Process Completeed ***\n",
      "Time used:\t 755.782662153244\n"
     ]
    }
   ],
   "source": [
    "start_time = time.time()\n",
    "driver = webdriver.Chrome()\n",
    "driver.switch_to_window(driver.current_window_handle)\n",
    "driver.maximize_window()\n",
    "driver.get('https://www.jayagrocer.com/')\n",
    "\n",
    "item_datas = []\n",
    "for i, row in data.iterrows():\n",
    "    driver.get(row.url)\n",
    "    \n",
    "    while True:\n",
    "        driver.execute_script(\"window.scrollTo(0, document.body.scrollHeight);\")\n",
    "        time.sleep(2)\n",
    "\n",
    "        if len(driver.find_elements_by_id('loadMore')) == 0:\n",
    "            break;\n",
    "\n",
    "    item_list = driver.find_elements_by_class_name('item-wrapper')\n",
    "\n",
    "    for item in item_list:\n",
    "        item_name = item.find_element_by_tag_name('a').get_attribute('title')\n",
    "        item_vol = item.find_element_by_class_name('variant_name').get_attribute('innerText')\n",
    "        price = item.find_element_by_class_name('variant_price').get_attribute('innerText').split(' ')\n",
    "        item_price = price[1]\n",
    "        try:\n",
    "            old_price = price[3]\n",
    "        except:\n",
    "            old_price = '0.00'\n",
    "        item_datas.append([row.main_cat, row.sub_cat, item_name, item_vol, item_price, old_price])\n",
    "time.sleep(1)\n",
    "driver.quit()\n",
    "print('*** Process Completeed ***')\n",
    "print('Time used:\\t',time.time()-start_time)"
   ]
  },
  {
   "cell_type": "code",
   "execution_count": 9,
   "metadata": {},
   "outputs": [
    {
     "name": "stdout",
     "output_type": "stream",
     "text": [
      "Dataframe shape:\t (3148, 6)\n"
     ]
    },
    {
     "data": {
      "text/html": [
       "<div>\n",
       "<style scoped>\n",
       "    .dataframe tbody tr th:only-of-type {\n",
       "        vertical-align: middle;\n",
       "    }\n",
       "\n",
       "    .dataframe tbody tr th {\n",
       "        vertical-align: top;\n",
       "    }\n",
       "\n",
       "    .dataframe thead th {\n",
       "        text-align: right;\n",
       "    }\n",
       "</style>\n",
       "<table border=\"1\" class=\"dataframe\">\n",
       "  <thead>\n",
       "    <tr style=\"text-align: right;\">\n",
       "      <th></th>\n",
       "      <th>main_cat</th>\n",
       "      <th>sub_cat</th>\n",
       "      <th>item_name</th>\n",
       "      <th>item_vol</th>\n",
       "      <th>item_price</th>\n",
       "      <th>item_old_price</th>\n",
       "    </tr>\n",
       "  </thead>\n",
       "  <tbody>\n",
       "    <tr>\n",
       "      <th>0</th>\n",
       "      <td>Special Events</td>\n",
       "      <td>Mooncake Festival</td>\n",
       "      <td>Hong Kong MX Premium Assorted Mooncakes Gift Pack</td>\n",
       "      <td>1.35kg</td>\n",
       "      <td>285.00</td>\n",
       "      <td>0.00</td>\n",
       "    </tr>\n",
       "    <tr>\n",
       "      <th>1</th>\n",
       "      <td>Special Events</td>\n",
       "      <td>Mooncake Festival</td>\n",
       "      <td>Hong Kong MX Low Sugar Lotus Seed Paste Moonca...</td>\n",
       "      <td>1box</td>\n",
       "      <td>179.00</td>\n",
       "      <td>0.00</td>\n",
       "    </tr>\n",
       "    <tr>\n",
       "      <th>2</th>\n",
       "      <td>Special Events</td>\n",
       "      <td>Mooncake Festival</td>\n",
       "      <td>Hong Kong MX Lava Custard Mooncake Collection</td>\n",
       "      <td>1box</td>\n",
       "      <td>166.00</td>\n",
       "      <td>0.00</td>\n",
       "    </tr>\n",
       "    <tr>\n",
       "      <th>3</th>\n",
       "      <td>Special Events</td>\n",
       "      <td>Mooncake Festival</td>\n",
       "      <td>Hong Kong MX Lotus Seed Paste Mooncake with 2 ...</td>\n",
       "      <td>1box</td>\n",
       "      <td>154.80</td>\n",
       "      <td>0.00</td>\n",
       "    </tr>\n",
       "    <tr>\n",
       "      <th>4</th>\n",
       "      <td>Special Events</td>\n",
       "      <td>Mooncake Festival</td>\n",
       "      <td>Hong Kong MX White Lotus Seed Paste Mooncake w...</td>\n",
       "      <td>1box</td>\n",
       "      <td>150.00</td>\n",
       "      <td>0.00</td>\n",
       "    </tr>\n",
       "  </tbody>\n",
       "</table>\n",
       "</div>"
      ],
      "text/plain": [
       "         main_cat            sub_cat  \\\n",
       "0  Special Events  Mooncake Festival   \n",
       "1  Special Events  Mooncake Festival   \n",
       "2  Special Events  Mooncake Festival   \n",
       "3  Special Events  Mooncake Festival   \n",
       "4  Special Events  Mooncake Festival   \n",
       "\n",
       "                                           item_name item_vol item_price  \\\n",
       "0  Hong Kong MX Premium Assorted Mooncakes Gift Pack   1.35kg     285.00   \n",
       "1  Hong Kong MX Low Sugar Lotus Seed Paste Moonca...     1box     179.00   \n",
       "2      Hong Kong MX Lava Custard Mooncake Collection     1box     166.00   \n",
       "3  Hong Kong MX Lotus Seed Paste Mooncake with 2 ...     1box     154.80   \n",
       "4  Hong Kong MX White Lotus Seed Paste Mooncake w...     1box     150.00   \n",
       "\n",
       "  item_old_price  \n",
       "0           0.00  \n",
       "1           0.00  \n",
       "2           0.00  \n",
       "3           0.00  \n",
       "4           0.00  "
      ]
     },
     "execution_count": 9,
     "metadata": {},
     "output_type": "execute_result"
    }
   ],
   "source": [
    "item_df = pd.DataFrame(item_datas, columns=['main_cat','sub_cat','item_name','item_vol','item_price','item_old_price'])\n",
    "print('Dataframe shape:\\t',item_df.shape)\n",
    "item_df.to_csv('jaya_grocer_database.csv',index=False)\n",
    "item_df.head()"
   ]
  },
  {
   "cell_type": "code",
   "execution_count": 10,
   "metadata": {
    "collapsed": true
   },
   "outputs": [
    {
     "data": {
      "text/plain": [
       "Organic Food Cupboard             374\n",
       "Wine                              278\n",
       "Tea                               236\n",
       "Vegetables                        196\n",
       "Coffee                            179\n",
       "Cheese                            150\n",
       "Milk & Milk Powder                137\n",
       "Soft Drinks                       123\n",
       "Milk & Yoghurt                    122\n",
       "Ice Cream                         106\n",
       "Juice                              93\n",
       "Chilled Juice & Drinks             93\n",
       "Organic Dairy & Beverages          82\n",
       "Pastry, Dessert & Ready Meal       78\n",
       "Salad & Herbs                      62\n",
       "Beer                               58\n",
       "Fruits                             57\n",
       "Food Cupboard                      57\n",
       "Dairy Spreads                      49\n",
       "Chilled Foods                      48\n",
       "Pizza, Fries & Nuggets             45\n",
       "Fresh Meat                         45\n",
       "Cordials                           43\n",
       "Water                              41\n",
       "Deli Meat                          39\n",
       "Chocolate & Nutritional Drinks     39\n",
       "Organic Fresh Produce              32\n",
       "Sports Drink                       30\n",
       "Chilled Meat                       28\n",
       "Frozen Meat                        28\n",
       "Frozen Meat & Seafood              23\n",
       "Fresh Eggs                         23\n",
       "Mooncake Festival                  22\n",
       "Frozen Vegetables & Fruits         22\n",
       "Cream                              19\n",
       "Deli Seafood                       17\n",
       "Canned Milk                        16\n",
       "Fresh Seafood                      14\n",
       "Cider                              13\n",
       "Sake & Soju                        11\n",
       "Spirits                             9\n",
       "Liquers                             7\n",
       "Champagne                           4\n",
       "Name: sub_cat, dtype: int64"
      ]
     },
     "execution_count": 10,
     "metadata": {},
     "output_type": "execute_result"
    }
   ],
   "source": [
    "item_df.sub_cat.value_counts()"
   ]
  },
  {
   "cell_type": "code",
   "execution_count": 13,
   "metadata": {
    "collapsed": true
   },
   "outputs": [
    {
     "data": {
      "text/plain": [
       "0.00      3066\n",
       "13.99        6\n",
       "2.82         5\n",
       "79.90        5\n",
       "8.90         4\n",
       "22.20        4\n",
       "17.99        4\n",
       "70.00        3\n",
       "84.81        3\n",
       "8.40         3\n",
       "62.75        3\n",
       "8.99         3\n",
       "10.20        3\n",
       "90.71        2\n",
       "92.36        2\n",
       "87.01        2\n",
       "161.04       2\n",
       "11.79        2\n",
       "9.90         2\n",
       "6.90         2\n",
       "10.99        2\n",
       "111.69       1\n",
       "15.90        1\n",
       "249.35       1\n",
       "59.34        1\n",
       "98.81        1\n",
       "98.46        1\n",
       "60.28        1\n",
       "72.37        1\n",
       "5.66         1\n",
       "58.00        1\n",
       "4.50         1\n",
       "249.99       1\n",
       "18.80        1\n",
       "9.59         1\n",
       "18.50        1\n",
       "3.76         1\n",
       "119.08       1\n",
       "11.31        1\n",
       "70.75        1\n",
       "14.10        1\n",
       "Name: item_old_price, dtype: int64"
      ]
     },
     "execution_count": 13,
     "metadata": {},
     "output_type": "execute_result"
    }
   ],
   "source": [
    "item_df.item_old_price.value_counts()"
   ]
  },
  {
   "cell_type": "code",
   "execution_count": null,
   "metadata": {},
   "outputs": [],
   "source": []
  }
 ],
 "metadata": {
  "kernelspec": {
   "display_name": "Python 3",
   "language": "python",
   "name": "python3"
  },
  "language_info": {
   "codemirror_mode": {
    "name": "ipython",
    "version": 3
   },
   "file_extension": ".py",
   "mimetype": "text/x-python",
   "name": "python",
   "nbconvert_exporter": "python",
   "pygments_lexer": "ipython3",
   "version": "3.6.6"
  }
 },
 "nbformat": 4,
 "nbformat_minor": 2
}
