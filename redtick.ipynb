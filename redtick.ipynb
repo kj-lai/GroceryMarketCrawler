{
 "cells": [
  {
   "cell_type": "markdown",
   "metadata": {},
   "source": [
    "source: https://eshop.tesco.com.my/groceries/en-GB/"
   ]
  },
  {
   "cell_type": "code",
   "execution_count": 1,
   "metadata": {},
   "outputs": [],
   "source": [
    "from selenium import webdriver\n",
    "from selenium.webdriver.common.keys import Keys\n",
    "from selenium.webdriver.common.by import By\n",
    "from selenium.webdriver.support import expected_conditions as EC\n",
    "import time\n",
    "import pandas as pd\n",
    "import numpy as np"
   ]
  },
  {
   "cell_type": "markdown",
   "metadata": {},
   "source": [
    "RETRIEVE CATEGORIES"
   ]
  },
  {
   "cell_type": "code",
   "execution_count": 2,
   "metadata": {
    "scrolled": true
   },
   "outputs": [
    {
     "name": "stdout",
     "output_type": "stream",
     "text": [
      "*** Process Completeed ***\n",
      "Dataframe shape:\t (233, 4)\n",
      "['' 'Fresh Market' 'Chilled & Frozen' 'Bakery' 'Food Cupboard' 'Beverages'\n",
      " 'Cookies & Snacks' 'Household' 'Health & Beauty']\n"
     ]
    }
   ],
   "source": [
    "start_time = time.time()\n",
    "driver = webdriver.Chrome()\n",
    "driver.switch_to_window(driver.current_window_handle)\n",
    "driver.maximize_window()\n",
    "driver.get('https://shop.redtick.com/')\n",
    "\n",
    "category = driver.find_element_by_class_name('row-sm-height').find_elements_by_css_selector('.group.col-md-1.col-sm-2.col-sm-height.col-middle')\n",
    "outputs = []\n",
    "for stage1 in category[1:]:\n",
    "    stage1.click()\n",
    "    time.sleep(2)\n",
    "    main_cat = stage1.find_element_by_tag_name('h3').get_attribute('innerText')\n",
    "    next_stage1 = stage1.find_elements_by_class_name('col-sm-4')\n",
    "    for stage2 in next_stage1:\n",
    "        mid_cat = stage2.find_element_by_tag_name('h4').get_attribute('innerText')\n",
    "        next_stage2 = stage2.find_elements_by_class_name('sub')\n",
    "        for stage3 in next_stage2:\n",
    "            sub_url = stage3.get_attribute('href')\n",
    "            sub_cat = stage3.get_attribute('innerText')\n",
    "            outputs.append([main_cat, mid_cat, sub_cat, sub_url])\n",
    "time.sleep(1)\n",
    "driver.quit()\n",
    "print('*** Process Completeed ***')\n",
    "data = pd.DataFrame(outputs, columns=['main_cat', 'mid_cat', 'sub_cat', 'sub_url'])\n",
    "print('Dataframe shape:\\t',data.shape)\n",
    "data.to_csv('redtick_category.csv',index=False)\n",
    "print(data.main_cat.unique())"
   ]
  },
  {
   "cell_type": "code",
   "execution_count": 2,
   "metadata": {},
   "outputs": [
    {
     "data": {
      "text/html": [
       "<div>\n",
       "<style scoped>\n",
       "    .dataframe tbody tr th:only-of-type {\n",
       "        vertical-align: middle;\n",
       "    }\n",
       "\n",
       "    .dataframe tbody tr th {\n",
       "        vertical-align: top;\n",
       "    }\n",
       "\n",
       "    .dataframe thead th {\n",
       "        text-align: right;\n",
       "    }\n",
       "</style>\n",
       "<table border=\"1\" class=\"dataframe\">\n",
       "  <thead>\n",
       "    <tr style=\"text-align: right;\">\n",
       "      <th></th>\n",
       "      <th>main_cat</th>\n",
       "      <th>mid_cat</th>\n",
       "      <th>sub_cat</th>\n",
       "      <th>sub_url</th>\n",
       "    </tr>\n",
       "  </thead>\n",
       "  <tbody>\n",
       "    <tr>\n",
       "      <th>0</th>\n",
       "      <td>NaN</td>\n",
       "      <td>NaN</td>\n",
       "      <td>NaN</td>\n",
       "      <td>https://shop.redtick.com/store/en/yu-ai-moon-c...</td>\n",
       "    </tr>\n",
       "  </tbody>\n",
       "</table>\n",
       "</div>"
      ],
      "text/plain": [
       "  main_cat mid_cat sub_cat                                            sub_url\n",
       "0      NaN     NaN     NaN  https://shop.redtick.com/store/en/yu-ai-moon-c..."
      ]
     },
     "execution_count": 2,
     "metadata": {},
     "output_type": "execute_result"
    }
   ],
   "source": [
    "data = pd.read_csv('redtick_category.csv')\n",
    "data.head(1)"
   ]
  },
  {
   "cell_type": "code",
   "execution_count": 3,
   "metadata": {},
   "outputs": [
    {
     "name": "stdout",
     "output_type": "stream",
     "text": [
      "(75, 4)\n",
      "['Fresh Market' 'Chilled & Frozen' 'Bakery' 'Beverages']\n"
     ]
    }
   ],
   "source": [
    "wanted = ['Mid-Autumn  Festival','Fresh Market','Chilled & Frozen','Bakery','Beverages','Alcohols']\n",
    "data2 = data[data.main_cat.isin(wanted)].reset_index(drop=True)\n",
    "print(data2.shape)\n",
    "print(data2.main_cat.unique())"
   ]
  },
  {
   "cell_type": "markdown",
   "metadata": {},
   "source": [
    "RETRIEVE ITEMS"
   ]
  },
  {
   "cell_type": "code",
   "execution_count": 4,
   "metadata": {},
   "outputs": [
    {
     "name": "stdout",
     "output_type": "stream",
     "text": [
      "*** Process Completeed ***\n",
      "Time used:\t 1273.9719560146332\n"
     ]
    }
   ],
   "source": [
    "start_time = time.time()\n",
    "driver = webdriver.Chrome()\n",
    "driver.switch_to_window(driver.current_window_handle)\n",
    "driver.maximize_window()\n",
    "# driver.get('https://shop.redtick.com/')\n",
    "\n",
    "item_datas = []\n",
    "item_counts = []\n",
    "for i, row in data2.iterrows():\n",
    "    driver.get(row.sub_url)\n",
    "# driver.get('https://shop.redtick.com/store/en/instant-noodle-cupbowl')\n",
    "    while True:\n",
    "        item_counts.append([row.main_cat, row.mid_cat, row.sub_cat ,driver.find_element_by_css_selector('.count').text.split(' ')[0]])\n",
    "        item_list = driver.find_elements_by_css_selector('.col-content')\n",
    "        for item in item_list:\n",
    "            item_name = item.find_element_by_tag_name('h3').text\n",
    "            item_price = item.find_element_by_class_name('price').text.split(' ')[0][2:]\n",
    "            item_vol = item.find_element_by_class_name('unit').text\n",
    "            try:\n",
    "                old_price = item.find_element_by_class_name('price-strike').text.split(' ')[0][2:]   \n",
    "            except:\n",
    "                old_price = '0.00'\n",
    "            try:\n",
    "                promo = item.find_element_by_class_name('visible-lg-inline-block').text\n",
    "            except:\n",
    "                promo = ''\n",
    "            item_datas.append([row.main_cat, row.mid_cat, row.sub_cat, item_name, item_price, item_vol, old_price, promo])\n",
    "        driver.execute_script(\"window.scrollTo(0, document.body.scrollHeight);\")\n",
    "        time.sleep(1)\n",
    "        try:\n",
    "            buttons = driver.find_element_by_class_name('pagination').find_elements_by_tag_name('a')\n",
    "            if buttons[-1].get_attribute('rel') == 'next':\n",
    "                buttons[-1].click()\n",
    "            else:\n",
    "                break;\n",
    "        except:\n",
    "            break;\n",
    "time.sleep(1)\n",
    "driver.quit()\n",
    "print('*** Process Completeed ***')\n",
    "print('Time used:\\t',time.time()-start_time)"
   ]
  },
  {
   "cell_type": "code",
   "execution_count": 5,
   "metadata": {},
   "outputs": [
    {
     "name": "stdout",
     "output_type": "stream",
     "text": [
      "Dataframe shape:\t (2667, 8)\n"
     ]
    },
    {
     "data": {
      "text/html": [
       "<div>\n",
       "<style scoped>\n",
       "    .dataframe tbody tr th:only-of-type {\n",
       "        vertical-align: middle;\n",
       "    }\n",
       "\n",
       "    .dataframe tbody tr th {\n",
       "        vertical-align: top;\n",
       "    }\n",
       "\n",
       "    .dataframe thead th {\n",
       "        text-align: right;\n",
       "    }\n",
       "</style>\n",
       "<table border=\"1\" class=\"dataframe\">\n",
       "  <thead>\n",
       "    <tr style=\"text-align: right;\">\n",
       "      <th></th>\n",
       "      <th>main_cat</th>\n",
       "      <th>mid_cat</th>\n",
       "      <th>sub_cat</th>\n",
       "      <th>item_name</th>\n",
       "      <th>item_price</th>\n",
       "      <th>item_vol</th>\n",
       "      <th>item_old_price</th>\n",
       "      <th>promotion</th>\n",
       "    </tr>\n",
       "  </thead>\n",
       "  <tbody>\n",
       "    <tr>\n",
       "      <th>0</th>\n",
       "      <td>Fresh Market</td>\n",
       "      <td>Fresh Fruits</td>\n",
       "      <td>Non Tropical Fruits</td>\n",
       "      <td>Organic Fruit &amp; Vegetable Wash</td>\n",
       "      <td>21.60</td>\n",
       "      <td>/500ml</td>\n",
       "      <td>0.00</td>\n",
       "      <td></td>\n",
       "    </tr>\n",
       "    <tr>\n",
       "      <th>1</th>\n",
       "      <td>Fresh Market</td>\n",
       "      <td>Fresh Fruits</td>\n",
       "      <td>Non Tropical Fruits</td>\n",
       "      <td>Blueberries (USA)</td>\n",
       "      <td>10.90</td>\n",
       "      <td>/Box (~125g)</td>\n",
       "      <td>0.00</td>\n",
       "      <td></td>\n",
       "    </tr>\n",
       "    <tr>\n",
       "      <th>2</th>\n",
       "      <td>Fresh Market</td>\n",
       "      <td>Fresh Fruits</td>\n",
       "      <td>Non Tropical Fruits</td>\n",
       "      <td>Avocado (M)</td>\n",
       "      <td>5.30</td>\n",
       "      <td>/Piece</td>\n",
       "      <td>0.00</td>\n",
       "      <td></td>\n",
       "    </tr>\n",
       "    <tr>\n",
       "      <th>3</th>\n",
       "      <td>Fresh Market</td>\n",
       "      <td>Fresh Fruits</td>\n",
       "      <td>Non Tropical Fruits</td>\n",
       "      <td>Granny Smith Apple S</td>\n",
       "      <td>10.00</td>\n",
       "      <td>/Pack (&gt;8pc)</td>\n",
       "      <td>0.00</td>\n",
       "      <td></td>\n",
       "    </tr>\n",
       "    <tr>\n",
       "      <th>4</th>\n",
       "      <td>Fresh Market</td>\n",
       "      <td>Fresh Fruits</td>\n",
       "      <td>Non Tropical Fruits</td>\n",
       "      <td>Fresh Lemon</td>\n",
       "      <td>10.00</td>\n",
       "      <td>/Pack (6pc)</td>\n",
       "      <td>0.00</td>\n",
       "      <td></td>\n",
       "    </tr>\n",
       "  </tbody>\n",
       "</table>\n",
       "</div>"
      ],
      "text/plain": [
       "       main_cat       mid_cat              sub_cat  \\\n",
       "0  Fresh Market  Fresh Fruits  Non Tropical Fruits   \n",
       "1  Fresh Market  Fresh Fruits  Non Tropical Fruits   \n",
       "2  Fresh Market  Fresh Fruits  Non Tropical Fruits   \n",
       "3  Fresh Market  Fresh Fruits  Non Tropical Fruits   \n",
       "4  Fresh Market  Fresh Fruits  Non Tropical Fruits   \n",
       "\n",
       "                        item_name item_price      item_vol item_old_price  \\\n",
       "0  Organic Fruit & Vegetable Wash      21.60        /500ml           0.00   \n",
       "1               Blueberries (USA)      10.90  /Box (~125g)           0.00   \n",
       "2                     Avocado (M)       5.30        /Piece           0.00   \n",
       "3            Granny Smith Apple S      10.00  /Pack (>8pc)           0.00   \n",
       "4                     Fresh Lemon      10.00   /Pack (6pc)           0.00   \n",
       "\n",
       "  promotion  \n",
       "0            \n",
       "1            \n",
       "2            \n",
       "3            \n",
       "4            "
      ]
     },
     "execution_count": 5,
     "metadata": {},
     "output_type": "execute_result"
    }
   ],
   "source": [
    "item_df = pd.DataFrame(item_datas, columns=['main_cat','mid_cat','sub_cat','item_name','item_price','item_vol','item_old_price','promotion'])\n",
    "print('Dataframe shape:\\t',item_df.shape)\n",
    "item_df.to_csv('redtick_database.csv',index=False)\n",
    "item_df.head()"
   ]
  },
  {
   "cell_type": "code",
   "execution_count": null,
   "metadata": {},
   "outputs": [],
   "source": []
  }
 ],
 "metadata": {
  "kernelspec": {
   "display_name": "Python 3",
   "language": "python",
   "name": "python3"
  },
  "language_info": {
   "codemirror_mode": {
    "name": "ipython",
    "version": 3
   },
   "file_extension": ".py",
   "mimetype": "text/x-python",
   "name": "python",
   "nbconvert_exporter": "python",
   "pygments_lexer": "ipython3",
   "version": "3.6.6"
  }
 },
 "nbformat": 4,
 "nbformat_minor": 2
}
