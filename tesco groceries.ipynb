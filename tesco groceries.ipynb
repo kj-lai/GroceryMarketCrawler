{
 "cells": [
  {
   "cell_type": "markdown",
   "metadata": {},
   "source": [
    "source: https://eshop.tesco.com.my/groceries/en-GB/"
   ]
  },
  {
   "cell_type": "code",
   "execution_count": 1,
   "metadata": {},
   "outputs": [],
   "source": [
    "from selenium import webdriver\n",
    "from selenium.webdriver.common.keys import Keys\n",
    "from selenium.webdriver.common.by import By\n",
    "from selenium.webdriver.support import expected_conditions as EC\n",
    "import time\n",
    "import pandas as pd\n",
    "import numpy as np"
   ]
  },
  {
   "cell_type": "markdown",
   "metadata": {},
   "source": [
    "RETRIEVE CATEGORIES"
   ]
  },
  {
   "cell_type": "code",
   "execution_count": 2,
   "metadata": {
    "scrolled": true
   },
   "outputs": [
    {
     "name": "stdout",
     "output_type": "stream",
     "text": [
      "*** Process Completeed ***\n",
      "Time used:\t 31.464118242263794\n",
      "Dataframe shape:\t (194, 4)\n",
      "['Fresh Food' 'Grocery' 'Chilled & Frozen' 'Drinks']\n"
     ]
    }
   ],
   "source": [
    "start_time = time.time()\n",
    "driver = webdriver.Chrome()\n",
    "driver.switch_to_window(driver.current_window_handle)\n",
    "driver.maximize_window()\n",
    "driver.get('https://eshop.tesco.com.my/groceries/en-GB/')\n",
    "# driver.find_element_by_css_selector('.menu-tree mq-l--menu-tree--open')\n",
    "# GET LINKS FOR EACH-SUB CATEGORY\n",
    "category = driver.find_elements_by_class_name('menu__item--superdepartment')\n",
    "wanted = ['Fresh Food','Grocery','Chilled & Frozen','Drinks']\n",
    "outputs = []\n",
    "for stage1 in category:\n",
    "    main_cat = stage1.text.split('\\n')[1]\n",
    "    if main_cat in wanted:\n",
    "        stage1.click()\n",
    "        inner1 = stage1.find_elements_by_class_name('menu__item--department')\n",
    "        for stage2 in inner1[1:]:\n",
    "            sub_cat = stage2.text.split('\\n')[1]\n",
    "            stage2.click()\n",
    "            inner2 = stage2.find_elements_by_class_name('menu__item--aisle')\n",
    "            for stage3 in inner2[1:]:\n",
    "                aisle = stage3.text.split('\\n')[1]\n",
    "                url = stage3.find_element_by_tag_name('a').get_attribute('href')\n",
    "                outputs.append([main_cat, sub_cat, aisle, url])\n",
    "driver.implicitly_wait(1)\n",
    "driver.quit()\n",
    "print('*** Process Completeed ***')\n",
    "print('Time used:\\t',time.time()-start_time)\n",
    "\n",
    "data = pd.DataFrame(outputs, columns=['main_cat', 'sub_cat', 'aisle', 'url'])\n",
    "print('Dataframe shape:\\t',data.shape)\n",
    "data.to_csv('tesco_category.csv',index=False)\n",
    "print(data.main_cat.unique())"
   ]
  },
  {
   "cell_type": "code",
   "execution_count": 31,
   "metadata": {},
   "outputs": [],
   "source": [
    "data = pd.read_csv('tesco_category.csv')\n",
    "data['counts'] = pd.Series(item_counts)\n",
    "data.counts = data.counts.astype('int')\n",
    "data.to_csv('tesco_category.csv',index=False)"
   ]
  },
  {
   "cell_type": "code",
   "execution_count": 32,
   "metadata": {},
   "outputs": [
    {
     "data": {
      "text/html": [
       "<div>\n",
       "<style scoped>\n",
       "    .dataframe tbody tr th:only-of-type {\n",
       "        vertical-align: middle;\n",
       "    }\n",
       "\n",
       "    .dataframe tbody tr th {\n",
       "        vertical-align: top;\n",
       "    }\n",
       "\n",
       "    .dataframe thead th {\n",
       "        text-align: right;\n",
       "    }\n",
       "</style>\n",
       "<table border=\"1\" class=\"dataframe\">\n",
       "  <thead>\n",
       "    <tr style=\"text-align: right;\">\n",
       "      <th></th>\n",
       "      <th>main_cat</th>\n",
       "      <th>sub_cat</th>\n",
       "      <th>aisle</th>\n",
       "      <th>url</th>\n",
       "    </tr>\n",
       "  </thead>\n",
       "  <tbody>\n",
       "    <tr>\n",
       "      <th>0</th>\n",
       "      <td>Fresh Food</td>\n",
       "      <td>Bakery</td>\n",
       "      <td>Brown Crusty Loaves &amp; Rolls</td>\n",
       "      <td>https://eshop.tesco.com.my/groceries/en-GB/sho...</td>\n",
       "    </tr>\n",
       "    <tr>\n",
       "      <th>1</th>\n",
       "      <td>Fresh Food</td>\n",
       "      <td>Bakery</td>\n",
       "      <td>Cakes</td>\n",
       "      <td>https://eshop.tesco.com.my/groceries/en-GB/sho...</td>\n",
       "    </tr>\n",
       "    <tr>\n",
       "      <th>2</th>\n",
       "      <td>Fresh Food</td>\n",
       "      <td>Bakery</td>\n",
       "      <td>Flat Bread</td>\n",
       "      <td>https://eshop.tesco.com.my/groceries/en-GB/sho...</td>\n",
       "    </tr>\n",
       "    <tr>\n",
       "      <th>3</th>\n",
       "      <td>Fresh Food</td>\n",
       "      <td>Bakery</td>\n",
       "      <td>Savouries Bun</td>\n",
       "      <td>https://eshop.tesco.com.my/groceries/en-GB/sho...</td>\n",
       "    </tr>\n",
       "    <tr>\n",
       "      <th>4</th>\n",
       "      <td>Fresh Food</td>\n",
       "      <td>Bakery</td>\n",
       "      <td>Specialty, Healthy Crusty Loaves &amp; Rolls</td>\n",
       "      <td>https://eshop.tesco.com.my/groceries/en-GB/sho...</td>\n",
       "    </tr>\n",
       "  </tbody>\n",
       "</table>\n",
       "</div>"
      ],
      "text/plain": [
       "     main_cat sub_cat                                     aisle  \\\n",
       "0  Fresh Food  Bakery               Brown Crusty Loaves & Rolls   \n",
       "1  Fresh Food  Bakery                                     Cakes   \n",
       "2  Fresh Food  Bakery                                Flat Bread   \n",
       "3  Fresh Food  Bakery                             Savouries Bun   \n",
       "4  Fresh Food  Bakery  Specialty, Healthy Crusty Loaves & Rolls   \n",
       "\n",
       "                                                 url  \n",
       "0  https://eshop.tesco.com.my/groceries/en-GB/sho...  \n",
       "1  https://eshop.tesco.com.my/groceries/en-GB/sho...  \n",
       "2  https://eshop.tesco.com.my/groceries/en-GB/sho...  \n",
       "3  https://eshop.tesco.com.my/groceries/en-GB/sho...  \n",
       "4  https://eshop.tesco.com.my/groceries/en-GB/sho...  "
      ]
     },
     "execution_count": 32,
     "metadata": {},
     "output_type": "execute_result"
    }
   ],
   "source": [
    "data.head()"
   ]
  },
  {
   "cell_type": "markdown",
   "metadata": {},
   "source": [
    "RETRIEVE ITEMS"
   ]
  },
  {
   "cell_type": "code",
   "execution_count": 17,
   "metadata": {
    "scrolled": true
   },
   "outputs": [
    {
     "name": "stdout",
     "output_type": "stream",
     "text": [
      "*** Process Completeed ***\n",
      "Time used:\t 360.5790169239044\n"
     ]
    }
   ],
   "source": [
    "start_time = time.time()\n",
    "driver = webdriver.Chrome()\n",
    "driver.switch_to_window(driver.current_window_handle)\n",
    "driver.maximize_window()\n",
    "driver.get('https://eshop.tesco.com.my/groceries/en-GB/')\n",
    "\n",
    "item_datas = []\n",
    "item_counts = []\n",
    "errors = []\n",
    "for i, row in data.iloc[185:].iterrows():\n",
    "#     try:\n",
    "    driver.get(row.url)\n",
    "    item_counts.append(int(driver.find_element_by_class_name('pagination__results-count').find_elements_by_tag_name('strong')[-1].text.split(' ')[0]))\n",
    "    ### CLICK THROUGH ALL THE PAGES\n",
    "    while True:   \n",
    "        item_list = driver.find_elements_by_css_selector('.product-list--list-item')\n",
    "        if len(item_list) == count:\n",
    "            break\n",
    "        driver.find_elements_by_css_selector('.prev-next')[1].click()\n",
    "        driver.implicitly_wait(5)\n",
    "    ### GATHER THE ITEM AND EXTRACT DATA\n",
    "    for n in item_list:\n",
    "        name = n.find_element_by_css_selector('.product-tile--title').get_attribute('innerText')\n",
    "        price = n.find_element_by_class_name('price-per-quantity-weight').get_attribute('innerText')\n",
    "        temp = price.split('/')\n",
    "        try:\n",
    "            promo = n.find_element_by_class_name('offer-text').get_attribute('innerText')\n",
    "            promo_date = n.find_element_by_css_selector('span.dates').get_attribute('innerText')\n",
    "        except:\n",
    "            promo = ''\n",
    "            promo_date = ''\n",
    "        item_datas.append([row.main_cat, row.sub_cat, row.aisle, name, temp[0], temp[1], promo, promo_date])\n",
    "#     except Exception as e:\n",
    "#         errors.append([row.main_cat, row.sub_cat, row.aisle, e.__class__.__name__])\n",
    "#         print([row.main_cat, row.sub_cat, row.aisle, e.__class__.__name__])\n",
    "driver.implicitly_wait(1)\n",
    "driver.quit()\n",
    "print('*** Process Completeed ***')\n",
    "print('Time used:\\t',time.time()-start_time)"
   ]
  },
  {
   "cell_type": "markdown",
   "metadata": {},
   "source": [
    "Change promo to promotion, item_metric to item_vol"
   ]
  },
  {
   "cell_type": "code",
   "execution_count": 20,
   "metadata": {
    "scrolled": true
   },
   "outputs": [
    {
     "name": "stdout",
     "output_type": "stream",
     "text": [
      "(6435, 8)\n"
     ]
    },
    {
     "data": {
      "text/html": [
       "<div>\n",
       "<style scoped>\n",
       "    .dataframe tbody tr th:only-of-type {\n",
       "        vertical-align: middle;\n",
       "    }\n",
       "\n",
       "    .dataframe tbody tr th {\n",
       "        vertical-align: top;\n",
       "    }\n",
       "\n",
       "    .dataframe thead th {\n",
       "        text-align: right;\n",
       "    }\n",
       "</style>\n",
       "<table border=\"1\" class=\"dataframe\">\n",
       "  <thead>\n",
       "    <tr style=\"text-align: right;\">\n",
       "      <th></th>\n",
       "      <th>main_cat</th>\n",
       "      <th>sub_cat</th>\n",
       "      <th>aisle</th>\n",
       "      <th>item_name</th>\n",
       "      <th>item_price</th>\n",
       "      <th>item_metric</th>\n",
       "      <th>promo</th>\n",
       "      <th>promo_date</th>\n",
       "    </tr>\n",
       "  </thead>\n",
       "  <tbody>\n",
       "    <tr>\n",
       "      <th>0</th>\n",
       "      <td>Fresh Food</td>\n",
       "      <td>Bakery</td>\n",
       "      <td>Brown Crusty Loaves &amp; Rolls</td>\n",
       "      <td>Massimo Grande Sandwich Loaf With Wheat Germ 600g</td>\n",
       "      <td>RM3.63</td>\n",
       "      <td>each</td>\n",
       "      <td>NaN</td>\n",
       "      <td>NaN</td>\n",
       "    </tr>\n",
       "    <tr>\n",
       "      <th>1</th>\n",
       "      <td>Fresh Food</td>\n",
       "      <td>Bakery</td>\n",
       "      <td>Brown Crusty Loaves &amp; Rolls</td>\n",
       "      <td>Massimo Fine Wholemeal Loaf 420g</td>\n",
       "      <td>RM2.90</td>\n",
       "      <td>each</td>\n",
       "      <td>NaN</td>\n",
       "      <td>NaN</td>\n",
       "    </tr>\n",
       "    <tr>\n",
       "      <th>2</th>\n",
       "      <td>Fresh Food</td>\n",
       "      <td>Bakery</td>\n",
       "      <td>Brown Crusty Loaves &amp; Rolls</td>\n",
       "      <td>Gardenia Fine Wholemeal 400g</td>\n",
       "      <td>RM2.90</td>\n",
       "      <td>each</td>\n",
       "      <td>NaN</td>\n",
       "      <td>NaN</td>\n",
       "    </tr>\n",
       "    <tr>\n",
       "      <th>3</th>\n",
       "      <td>Fresh Food</td>\n",
       "      <td>Bakery</td>\n",
       "      <td>Brown Crusty Loaves &amp; Rolls</td>\n",
       "      <td>Wheat Bran Bread</td>\n",
       "      <td>RM1.89</td>\n",
       "      <td>each</td>\n",
       "      <td>NaN</td>\n",
       "      <td>NaN</td>\n",
       "    </tr>\n",
       "    <tr>\n",
       "      <th>4</th>\n",
       "      <td>Fresh Food</td>\n",
       "      <td>Bakery</td>\n",
       "      <td>Brown Crusty Loaves &amp; Rolls</td>\n",
       "      <td>Mighty White Wholemeal Bread 400g</td>\n",
       "      <td>RM3.50</td>\n",
       "      <td>each</td>\n",
       "      <td>NaN</td>\n",
       "      <td>NaN</td>\n",
       "    </tr>\n",
       "  </tbody>\n",
       "</table>\n",
       "</div>"
      ],
      "text/plain": [
       "     main_cat sub_cat                        aisle  \\\n",
       "0  Fresh Food  Bakery  Brown Crusty Loaves & Rolls   \n",
       "1  Fresh Food  Bakery  Brown Crusty Loaves & Rolls   \n",
       "2  Fresh Food  Bakery  Brown Crusty Loaves & Rolls   \n",
       "3  Fresh Food  Bakery  Brown Crusty Loaves & Rolls   \n",
       "4  Fresh Food  Bakery  Brown Crusty Loaves & Rolls   \n",
       "\n",
       "                                           item_name item_price item_metric  \\\n",
       "0  Massimo Grande Sandwich Loaf With Wheat Germ 600g     RM3.63        each   \n",
       "1                   Massimo Fine Wholemeal Loaf 420g     RM2.90        each   \n",
       "2                       Gardenia Fine Wholemeal 400g     RM2.90        each   \n",
       "3                                   Wheat Bran Bread     RM1.89        each   \n",
       "4                  Mighty White Wholemeal Bread 400g     RM3.50        each   \n",
       "\n",
       "  promo promo_date  \n",
       "0   NaN        NaN  \n",
       "1   NaN        NaN  \n",
       "2   NaN        NaN  \n",
       "3   NaN        NaN  \n",
       "4   NaN        NaN  "
      ]
     },
     "execution_count": 20,
     "metadata": {},
     "output_type": "execute_result"
    }
   ],
   "source": [
    "item_df = pd.DataFrame(item_datas, columns=['main_cat','sub_cat','aisle','item_name','item_price','item_metric','promo','promo_date'])\n",
    "print('Dataframe shape:\\t',item_df.shape)\n",
    "item_df.to_csv('tesco_database.csv',index=False)\n",
    "item_df.head()"
   ]
  },
  {
   "cell_type": "code",
   "execution_count": null,
   "metadata": {},
   "outputs": [],
   "source": []
  }
 ],
 "metadata": {
  "kernelspec": {
   "display_name": "Python 3",
   "language": "python",
   "name": "python3"
  },
  "language_info": {
   "codemirror_mode": {
    "name": "ipython",
    "version": 3
   },
   "file_extension": ".py",
   "mimetype": "text/x-python",
   "name": "python",
   "nbconvert_exporter": "python",
   "pygments_lexer": "ipython3",
   "version": "3.6.6"
  }
 },
 "nbformat": 4,
 "nbformat_minor": 2
}
